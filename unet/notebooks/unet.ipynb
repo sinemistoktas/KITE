{
 "cells": [
  {
   "cell_type": "code",
   "id": "initial_id",
   "metadata": {
    "collapsed": true,
    "ExecuteTime": {
     "end_time": "2025-05-20T09:06:20.574875Z",
     "start_time": "2025-05-20T09:06:20.572743Z"
    }
   },
   "source": [
    "import cv2 as cv\n",
    "import matplotlib.pyplot as plt\n",
    "import sys\n",
    "import torch\n"
   ],
   "outputs": [],
   "execution_count": 24
  },
  {
   "metadata": {
    "ExecuteTime": {
     "end_time": "2025-05-20T09:06:21.674116Z",
     "start_time": "2025-05-20T09:06:21.671815Z"
    }
   },
   "cell_type": "code",
   "source": [
    "sys.argv = [\n",
    "    '', \n",
    "    '--dataset', '/Users/durutandogan/KITE/unet/duke_original',\n",
    "    '--list_dir', '/Users/durutandogan/KITE/unet/contains_lesion',\n",
    "    '--num_class', '2',  \n",
    "    '--num_epochs', '50',\n",
    "    '--batch_size', '4',\n",
    "    '--fold', '1',\n",
    "    '--run', '1',\n",
    "    '--loss_dice' \n",
    "]"
   ],
   "id": "881141da46435fea",
   "outputs": [],
   "execution_count": 25
  },
  {
   "metadata": {
    "ExecuteTime": {
     "end_time": "2025-05-20T09:06:24.298592Z",
     "start_time": "2025-05-20T09:06:22.854268Z"
    }
   },
   "cell_type": "code",
   "source": "import unet_duke",
   "id": "277390a5a3cd7e79",
   "outputs": [],
   "execution_count": 26
  },
  {
   "metadata": {
    "ExecuteTime": {
     "end_time": "2025-05-20T06:22:28.105379Z",
     "start_time": "2025-05-20T06:22:28.095734Z"
    }
   },
   "cell_type": "code",
   "source": "image = cv.imread(\"/Users/durutandogan/Desktop/unet deneme/results/unet_fold1_run1/Subject_01_11.png\", 0)",
   "id": "1bc7a96fdd5e26c3",
   "outputs": [],
   "execution_count": 13
  },
  {
   "metadata": {
    "ExecuteTime": {
     "end_time": "2025-05-20T06:22:29.064463Z",
     "start_time": "2025-05-20T06:22:29.055072Z"
    }
   },
   "cell_type": "code",
   "source": "image.max()",
   "id": "45db331749e9da16",
   "outputs": [
    {
     "data": {
      "text/plain": [
       "np.uint8(9)"
      ]
     },
     "execution_count": 14,
     "metadata": {},
     "output_type": "execute_result"
    }
   ],
   "execution_count": 14
  },
  {
   "metadata": {
    "ExecuteTime": {
     "end_time": "2025-05-20T06:22:32.478328Z",
     "start_time": "2025-05-20T06:22:32.413540Z"
    }
   },
   "cell_type": "code",
   "source": "plt.imshow(image == 0, cmap= \"gray\")",
   "id": "6269849ec1f3eb71",
   "outputs": [
    {
     "data": {
      "text/plain": [
       "<matplotlib.image.AxesImage at 0x168cecfa0>"
      ]
     },
     "execution_count": 15,
     "metadata": {},
     "output_type": "execute_result"
    },
    {
     "data": {
      "text/plain": [
       "<Figure size 640x480 with 1 Axes>"
      ],
      "image/png": "[encoded data removed]"
     },
     "metadata": {},
     "output_type": "display_data"
    }
   ],
   "execution_count": 15
  },
  {
   "metadata": {
    "ExecuteTime": {
     "end_time": "2025-05-20T06:22:33.818023Z",
     "start_time": "2025-05-20T06:22:33.816097Z"
    }
   },
   "cell_type": "code",
   "source": [
    "num_class = 10\n",
    "feature_map_size = 16\n",
    "num_task = 1\n",
    "model_path = 'models/'"
   ],
   "id": "f3661e425be0226",
   "outputs": [],
   "execution_count": 16
  },
  {
   "metadata": {
    "ExecuteTime": {
     "end_time": "2025-05-20T06:22:35.006916Z",
     "start_time": "2025-05-20T06:22:35.001092Z"
    }
   },
   "cell_type": "code",
   "source": [
    "# Let's create a simpler wrapper\n",
    "class UNetWrapper(torch.nn.Module):\n",
    "    def __init__(self, model):\n",
    "        super().__init__()\n",
    "        self.model = model\n",
    "        self.model.eval()  # Ensure model is in evaluation mode\n",
    "\n",
    "    def forward(self, x):\n",
    "        # Simple forward pass, no need for complex handling\n",
    "        return self.model(x)"
   ],
   "id": "590163271afe7cc8",
   "outputs": [],
   "execution_count": 17
  },
  {
   "metadata": {
    "ExecuteTime": {
     "end_time": "2025-05-20T06:22:38.501616Z",
     "start_time": "2025-05-20T06:22:38.193878Z"
    }
   },
   "cell_type": "code",
   "source": [
    "# Load and prepare the model\n",
    "model = pytorch_unet.UNet(num_class, f_size=feature_map_size, task_no=num_task)\n",
    "model.load_state_dict(torch.load(\"/Users/durutandogan/Desktop/unet deneme/models/unet_fold1_run1\"))\n",
    "model.eval()  # Important: set to evaluation mode\n",
    "\n",
    "# Create the wrapper\n",
    "wrapped_model = UNetWrapper(model)\n",
    "wrapped_model.eval()\n",
    "\n",
    "# Create a valid input tensor\n",
    "example_input = torch.rand(1, 1, 224, 512)\n",
    "\n",
    "# Try tracing with more explicit options\n",
    "with torch.no_grad():  # Make sure we're in no_grad mode for tracing\n",
    "    traced_model = torch.jit.trace(\n",
    "        wrapped_model,\n",
    "        example_input,\n",
    "        check_trace=False,  # Disable trace checking to avoid potential issues\n",
    "        strict=False  # Be more lenient with the tracing\n",
    "    )\n",
    "\n",
    "    # Verify the traced model works\n",
    "    test_output = traced_model(example_input)\n",
    "    print(f\"Traced model output type: {type(test_output)}\")\n",
    "    print(f\"Traced model output shape: {test_output.shape}\")\n",
    "\n",
    "    # Save the traced model\n",
    "    traced_model.save(\"unet_traced.pt\")"
   ],
   "id": "7ab20d32809de77c",
   "outputs": [
    {
     "name": "stdout",
     "output_type": "stream",
     "text": [
      "Forward output type: <class 'torch.Tensor'>\n",
      "Traced model output type: <class 'torch.Tensor'>\n",
      "Traced model output shape: torch.Size([1, 10, 224, 512])\n"
     ]
    }
   ],
   "execution_count": 19
  },
  {
   "metadata": {
    "ExecuteTime": {
     "end_time": "2025-05-20T08:42:35.830524Z",
     "start_time": "2025-05-20T08:42:35.645040Z"
    }
   },
   "cell_type": "code",
   "source": [
    "import torch\n",
    "from PIL import Image\n",
    "import numpy as np\n",
    "import matplotlib.pyplot as plt\n",
    "\n",
    "# Load the traced model\n",
    "model_path = \"/Users/durutandogan/KITE/unet/notebooks/unet_traced.pt\"\n",
    "model = torch.jit.load(model_path)\n",
    "model.eval()\n",
    "\n",
    "# Load and prepare an image (same logic as UnetPredictor)\n",
    "image_path = \"/Users/durutandogan/KITE/website/backend/media/Subject_01_21.png\"\n",
    "img = Image.open(image_path).resize((512, 224)).convert('L')\n",
    "img_array = np.array(img).astype(np.float32) / 255.0\n",
    "img_tensor = torch.from_numpy(img_array).unsqueeze(0).unsqueeze(0)  # [1, 1, H, W]\n",
    "\n",
    "# Run prediction\n",
    "with torch.no_grad():\n",
    "    output = model(img_tensor)\n",
    "\n",
    "print(\"Output shape:\", output.shape)  # should be [1, 2, 224, 512] or similar\n",
    "\n",
    "# Visualize the class prediction map\n",
    "predicted = torch.argmax(output, dim=1).squeeze().cpu().numpy()\n",
    "plt.imshow(predicted, cmap=\"gray\")\n",
    "plt.title(\"Predicted Segmentation Map\")\n",
    "plt.show()\n",
    "\n",
    "# Optional: Check unique values\n",
    "print(\"Unique predicted values:\", np.unique(predicted))\n"
   ],
   "id": "9d50b84cbf758525",
   "outputs": [
    {
     "name": "stdout",
     "output_type": "stream",
     "text": [
      "Output shape: torch.Size([1, 10, 224, 512])\n"
     ]
    },
    {
     "data": {
      "text/plain": [
       "<Figure size 640x480 with 1 Axes>"
      ],
      "image/png": "[encoded data removed]"
     },
     "metadata": {},
     "output_type": "display_data"
    },
    {
     "name": "stdout",
     "output_type": "stream",
     "text": [
      "Unique predicted values: [6 9]\n"
     ]
    }
   ],
   "execution_count": 23
  }
 ],
 "metadata": {
  "kernelspec": {
   "display_name": "Python 3",
   "language": "python",
   "name": "python3"
  },
  "language_info": {
   "codemirror_mode": {
    "name": "ipython",
    "version": 2
   },
   "file_extension": ".py",
   "mimetype": "text/x-python",
   "name": "python",
   "nbconvert_exporter": "python",
   "pygments_lexer": "ipython2",
   "version": "2.7.6"
  }
 },
 "nbformat": 4,
 "nbformat_minor": 5
}
